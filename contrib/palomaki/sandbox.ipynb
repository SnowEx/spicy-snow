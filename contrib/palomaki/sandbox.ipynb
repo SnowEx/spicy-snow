{
 "cells": [
  {
   "cell_type": "code",
   "execution_count": null,
   "metadata": {},
   "outputs": [],
   "source": [
    "# standard imports\n",
    "import numpy as np\n",
    "import xarray as xr\n",
    "import rioxarray\n",
    "import matplotlib.pyplot as plt\n",
    "import pickle\n",
    "\n",
    "with open('2_img_test.pkl', 'rb') as f:\n",
    "    ds = pickle.load(f)\n",
    "\n",
    "\n",
    "# add module to path so python can import it. This is the directory with\n",
    "# the __init__.py file in it to let python know this is a module.\n",
    "import sys\n",
    "sys.path.append('/Users/w76m851/github_workspace/spicy-snow/spicy_snow')\n",
    "\n",
    "# import the function to test\n",
    "from processing.s1_preprocessing import s1_amp_to_dB\n",
    "\n",
    "\n",
    "# plot first time slice and VV band to see initial\n",
    "ds['s1'].isel(time=0).sel(band='VV').plot()\n",
    "plt.show()\n",
    "\n",
    "# snag the original time slice to compare afterwards\n",
    "amp = ds['s1'].isel(time=0).sel(band='VV').values.ravel()\n",
    "amp = amp[amp != 0]\n",
    "\n",
    "# run your newly written function over the dataset and capture returning dataset\n",
    "s1_amp_to_dB(ds)\n",
    "\n",
    "# plot first time slice and VV band to see dB change\n",
    "\n",
    "ds['s1'].isel(time=0).sel(band='VV').plot()\n",
    "plt.show()\n",
    "\n",
    "# grab the first time slice VV\n",
    "dB = ds['s1'].isel(time=0).sel(band='VV').values.ravel()\n",
    "dB = dB[np.isfinite(dB)]\n",
    "\n",
    "# assert the conversion was succesful\n",
    "assert np.allclose(dB, 10 * np.log10(amp))"
   ]
  },
  {
   "cell_type": "code",
   "execution_count": null,
   "metadata": {},
   "outputs": [],
   "source": [
    "def s1_clip_outliers(dataset: xr.Dataset, inplace: bool=False) -> xr.Dataset:\n",
    "    \"\"\"\n",
    "    Remove s1 image outliers by masking pixels 3 dB above 90th percentile or\n",
    "    3 dB before the 10th percentile. (-35 -> 15 dB for VV) and (-40 -> 10 for VH\n",
    "    in HL's code - line # 291)\n",
    "\n",
    "    Args:\n",
    "    dataset: Xarray Dataset of sentinel images to clip outliers\n",
    "    inplace: boolean flag to modify original Dataset or return a new Dataset\n",
    "\n",
    "    Returns:\n",
    "    dataset: Xarray Dataset of sentinel images with masked outliers\n",
    "    \"\"\"\n",
    "    # Check inplace flag\n",
    "    if inplace:\n",
    "        ds = dataset\n",
    "        rtrn = False\n",
    "    else:\n",
    "        ds = dataset.copy(deep=True)\n",
    "        rtrn = True\n",
    "\n",
    "    # Calculate time series 10th and 90th percentile \n",
    "    # Threshold vals 3 dB above/below percentiles\n",
    "    for band in ['VV','VH']:\n",
    "        data = ds['s1'].sel(band=band)\n",
    "        vals = ds['s1'].sel(band=band).values.flatten()\n",
    "        vals_valid = vals[~np.isnan(vals)]\n",
    "        thresh_lo = np.percentile(vals_valid, 10) - 3\n",
    "        thresh_hi = np.percentile(vals_valid, 90) + 3\n",
    "        # Mask using percentile thresholds\n",
    "        data_masked = data.where((data > thresh_lo) & (data < thresh_hi))\n",
    "        ds['s1'].loc[dict(band = band)] = data_masked\n",
    "\n",
    "    if rtrn:\n",
    "        return ds\n"
   ]
  },
  {
   "cell_type": "code",
   "execution_count": null,
   "metadata": {},
   "outputs": [],
   "source": [
    "test = s1_clip_outliers(ds, inplace=False)\n",
    "\n",
    "for band in ['VV','VH']:\n",
    "    print(f'{band} nans before:', sum(np.isnan(ds['s1'].sel(band=band).data.flatten())))\n",
    "    print(f'{band} nans after:', sum(np.isnan(test['s1'].sel(band=band).data.flatten())))\n"
   ]
  },
  {
   "cell_type": "code",
   "execution_count": null,
   "metadata": {},
   "outputs": [],
   "source": [
    "ds_copy = ds\n",
    "\n",
    "ds_copy['s1'].loc[dict(band = 'VV')] = ds['s1'].sel(band='VV').where((ds['s1'].sel(band='VV') > -7.7) & (ds['s1'].sel(band='VV') < -6.8))\n",
    "# ds_copy['s1'].loc[dict(band = 'VV')].data.shape\n",
    "# ds['s1'].sel(band='VV').where((ds['s1'].sel(band='VV') > -7.7) & (ds['s1'].sel(band='VV') < -6.8)).data.shape\n",
    "# ds_copy['s1']\n",
    "ds['s1']\n"
   ]
  },
  {
   "cell_type": "code",
   "execution_count": null,
   "metadata": {},
   "outputs": [],
   "source": [
    "test_ds = xr.Dataset(data_vars={'ims':ds['ims'], 'fcf':ds['fcf']})\n",
    "test_ds.assign(s1=test)\n",
    "test_ds"
   ]
  },
  {
   "cell_type": "code",
   "execution_count": null,
   "metadata": {},
   "outputs": [],
   "source": [
    "ds['s1'].band"
   ]
  },
  {
   "cell_type": "code",
   "execution_count": null,
   "metadata": {},
   "outputs": [],
   "source": []
  }
 ],
 "metadata": {
  "kernelspec": {
   "display_name": "spicy",
   "language": "python",
   "name": "python3"
  },
  "language_info": {
   "codemirror_mode": {
    "name": "ipython",
    "version": 3
   },
   "file_extension": ".py",
   "mimetype": "text/x-python",
   "name": "python",
   "nbconvert_exporter": "python",
   "pygments_lexer": "ipython3",
   "version": "3.11.0"
  },
  "vscode": {
   "interpreter": {
    "hash": "ce4bdd2387e2daa803a7d0f8b0d766d25a1c9eab6b20981c1c0786f34d7ccd75"
   }
  }
 },
 "nbformat": 4,
 "nbformat_minor": 2
}
